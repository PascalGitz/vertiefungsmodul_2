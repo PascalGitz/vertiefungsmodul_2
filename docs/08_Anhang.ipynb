{
 "cells": [
  {
   "cell_type": "code",
   "execution_count": 1,
   "metadata": {},
   "outputs": [],
   "source": [
    "from input import *"
   ]
  },
  {
   "cell_type": "markdown",
   "metadata": {},
   "source": [
    "\\addtocontents{lof}{\\protect\\setcounter{tocdepth}{0}}"
   ]
  },
  {
   "cell_type": "markdown",
   "metadata": {},
   "source": [
    "# Momenten-Krümmungs-Beziehungen Versuch T6 {.appendix}\n",
    "\n",
    "Dieses Kapitel zeigt lediglich die einzelnen Querschnitte mit den entsprechenden Parametern und der resultierenden Momenten-Krümmungs-Beziehung. Es wird keinen Wert auf die Leserlichkeit in Papierformat gelegt.\n",
    "\n",
    "\n",
    "![Überlagerung der einzelnen Momenten-Krümmungs-Beziehungen](T6_m_chi/m_chi_tot.svg)"
   ]
  },
  {
   "cell_type": "code",
   "execution_count": 2,
   "metadata": {},
   "outputs": [
    {
     "data": {
      "text/markdown": [
       "::: {#fig-mchi_anhang layout-ncol=2}\n",
       "\n",
       "![](T6_m_chi/qs_0.svg)\n",
       "\n",
       "![](T6_m_chi/m_chi_0.svg)\n",
       "\n",
       "Momenten-Krümmungs-Beziehung des Querschnitts 0\n",
       ":::"
      ],
      "text/plain": [
       "<IPython.core.display.Markdown object>"
      ]
     },
     "metadata": {},
     "output_type": "display_data"
    },
    {
     "data": {
      "text/markdown": [
       "::: {#fig-mchi_anhang layout-ncol=2}\n",
       "\n",
       "![](T6_m_chi/qs_1.svg)\n",
       "\n",
       "![](T6_m_chi/m_chi_1.svg)\n",
       "\n",
       "Momenten-Krümmungs-Beziehung des Querschnitts 1\n",
       ":::"
      ],
      "text/plain": [
       "<IPython.core.display.Markdown object>"
      ]
     },
     "metadata": {},
     "output_type": "display_data"
    },
    {
     "data": {
      "text/markdown": [
       "::: {#fig-mchi_anhang layout-ncol=2}\n",
       "\n",
       "![](T6_m_chi/qs_2.svg)\n",
       "\n",
       "![](T6_m_chi/m_chi_2.svg)\n",
       "\n",
       "Momenten-Krümmungs-Beziehung des Querschnitts 2\n",
       ":::"
      ],
      "text/plain": [
       "<IPython.core.display.Markdown object>"
      ]
     },
     "metadata": {},
     "output_type": "display_data"
    },
    {
     "data": {
      "text/markdown": [
       "::: {#fig-mchi_anhang layout-ncol=2}\n",
       "\n",
       "![](T6_m_chi/qs_3.svg)\n",
       "\n",
       "![](T6_m_chi/m_chi_3.svg)\n",
       "\n",
       "Momenten-Krümmungs-Beziehung des Querschnitts 3\n",
       ":::"
      ],
      "text/plain": [
       "<IPython.core.display.Markdown object>"
      ]
     },
     "metadata": {},
     "output_type": "display_data"
    },
    {
     "data": {
      "text/markdown": [
       "::: {#fig-mchi_anhang layout-ncol=2}\n",
       "\n",
       "![](T6_m_chi/qs_4.svg)\n",
       "\n",
       "![](T6_m_chi/m_chi_4.svg)\n",
       "\n",
       "Momenten-Krümmungs-Beziehung des Querschnitts 4\n",
       ":::"
      ],
      "text/plain": [
       "<IPython.core.display.Markdown object>"
      ]
     },
     "metadata": {},
     "output_type": "display_data"
    },
    {
     "data": {
      "text/markdown": [
       "::: {#fig-mchi_anhang layout-ncol=2}\n",
       "\n",
       "![](T6_m_chi/qs_5.svg)\n",
       "\n",
       "![](T6_m_chi/m_chi_5.svg)\n",
       "\n",
       "Momenten-Krümmungs-Beziehung des Querschnitts 5\n",
       ":::"
      ],
      "text/plain": [
       "<IPython.core.display.Markdown object>"
      ]
     },
     "metadata": {},
     "output_type": "display_data"
    },
    {
     "data": {
      "text/markdown": [
       "::: {#fig-mchi_anhang layout-ncol=2}\n",
       "\n",
       "![](T6_m_chi/qs_6.svg)\n",
       "\n",
       "![](T6_m_chi/m_chi_6.svg)\n",
       "\n",
       "Momenten-Krümmungs-Beziehung des Querschnitts 6\n",
       ":::"
      ],
      "text/plain": [
       "<IPython.core.display.Markdown object>"
      ]
     },
     "metadata": {},
     "output_type": "display_data"
    },
    {
     "data": {
      "text/markdown": [
       "::: {#fig-mchi_anhang layout-ncol=2}\n",
       "\n",
       "![](T6_m_chi/qs_7.svg)\n",
       "\n",
       "![](T6_m_chi/m_chi_7.svg)\n",
       "\n",
       "Momenten-Krümmungs-Beziehung des Querschnitts 7\n",
       ":::"
      ],
      "text/plain": [
       "<IPython.core.display.Markdown object>"
      ]
     },
     "metadata": {},
     "output_type": "display_data"
    },
    {
     "data": {
      "text/markdown": [
       "::: {#fig-mchi_anhang layout-ncol=2}\n",
       "\n",
       "![](T6_m_chi/qs_8.svg)\n",
       "\n",
       "![](T6_m_chi/m_chi_8.svg)\n",
       "\n",
       "Momenten-Krümmungs-Beziehung des Querschnitts 8\n",
       ":::"
      ],
      "text/plain": [
       "<IPython.core.display.Markdown object>"
      ]
     },
     "metadata": {},
     "output_type": "display_data"
    },
    {
     "data": {
      "text/markdown": [
       "::: {#fig-mchi_anhang layout-ncol=2}\n",
       "\n",
       "![](T6_m_chi/qs_9.svg)\n",
       "\n",
       "![](T6_m_chi/m_chi_9.svg)\n",
       "\n",
       "Momenten-Krümmungs-Beziehung des Querschnitts 9\n",
       ":::"
      ],
      "text/plain": [
       "<IPython.core.display.Markdown object>"
      ]
     },
     "metadata": {},
     "output_type": "display_data"
    },
    {
     "data": {
      "text/markdown": [
       "::: {#fig-mchi_anhang layout-ncol=2}\n",
       "\n",
       "![](T6_m_chi/qs_10.svg)\n",
       "\n",
       "![](T6_m_chi/m_chi_10.svg)\n",
       "\n",
       "Momenten-Krümmungs-Beziehung des Querschnitts 10\n",
       ":::"
      ],
      "text/plain": [
       "<IPython.core.display.Markdown object>"
      ]
     },
     "metadata": {},
     "output_type": "display_data"
    },
    {
     "data": {
      "text/markdown": [
       "::: {#fig-mchi_anhang layout-ncol=2}\n",
       "\n",
       "![](T6_m_chi/qs_11.svg)\n",
       "\n",
       "![](T6_m_chi/m_chi_11.svg)\n",
       "\n",
       "Momenten-Krümmungs-Beziehung des Querschnitts 11\n",
       ":::"
      ],
      "text/plain": [
       "<IPython.core.display.Markdown object>"
      ]
     },
     "metadata": {},
     "output_type": "display_data"
    },
    {
     "data": {
      "text/markdown": [
       "::: {#fig-mchi_anhang layout-ncol=2}\n",
       "\n",
       "![](T6_m_chi/qs_12.svg)\n",
       "\n",
       "![](T6_m_chi/m_chi_12.svg)\n",
       "\n",
       "Momenten-Krümmungs-Beziehung des Querschnitts 12\n",
       ":::"
      ],
      "text/plain": [
       "<IPython.core.display.Markdown object>"
      ]
     },
     "metadata": {},
     "output_type": "display_data"
    },
    {
     "data": {
      "text/markdown": [
       "::: {#fig-mchi_anhang layout-ncol=2}\n",
       "\n",
       "![](T6_m_chi/qs_13.svg)\n",
       "\n",
       "![](T6_m_chi/m_chi_13.svg)\n",
       "\n",
       "Momenten-Krümmungs-Beziehung des Querschnitts 13\n",
       ":::"
      ],
      "text/plain": [
       "<IPython.core.display.Markdown object>"
      ]
     },
     "metadata": {},
     "output_type": "display_data"
    },
    {
     "data": {
      "text/markdown": [
       "::: {#fig-mchi_anhang layout-ncol=2}\n",
       "\n",
       "![](T6_m_chi/qs_14.svg)\n",
       "\n",
       "![](T6_m_chi/m_chi_14.svg)\n",
       "\n",
       "Momenten-Krümmungs-Beziehung des Querschnitts 14\n",
       ":::"
      ],
      "text/plain": [
       "<IPython.core.display.Markdown object>"
      ]
     },
     "metadata": {},
     "output_type": "display_data"
    },
    {
     "data": {
      "text/markdown": [
       "::: {#fig-mchi_anhang layout-ncol=2}\n",
       "\n",
       "![](T6_m_chi/qs_15.svg)\n",
       "\n",
       "![](T6_m_chi/m_chi_15.svg)\n",
       "\n",
       "Momenten-Krümmungs-Beziehung des Querschnitts 15\n",
       ":::"
      ],
      "text/plain": [
       "<IPython.core.display.Markdown object>"
      ]
     },
     "metadata": {},
     "output_type": "display_data"
    },
    {
     "data": {
      "text/markdown": [
       "::: {#fig-mchi_anhang layout-ncol=2}\n",
       "\n",
       "![](T6_m_chi/qs_16.svg)\n",
       "\n",
       "![](T6_m_chi/m_chi_16.svg)\n",
       "\n",
       "Momenten-Krümmungs-Beziehung des Querschnitts 16\n",
       ":::"
      ],
      "text/plain": [
       "<IPython.core.display.Markdown object>"
      ]
     },
     "metadata": {},
     "output_type": "display_data"
    },
    {
     "data": {
      "text/markdown": [
       "::: {#fig-mchi_anhang layout-ncol=2}\n",
       "\n",
       "![](T6_m_chi/qs_17.svg)\n",
       "\n",
       "![](T6_m_chi/m_chi_17.svg)\n",
       "\n",
       "Momenten-Krümmungs-Beziehung des Querschnitts 17\n",
       ":::"
      ],
      "text/plain": [
       "<IPython.core.display.Markdown object>"
      ]
     },
     "metadata": {},
     "output_type": "display_data"
    },
    {
     "data": {
      "text/markdown": [
       "::: {#fig-mchi_anhang layout-ncol=2}\n",
       "\n",
       "![](T6_m_chi/qs_18.svg)\n",
       "\n",
       "![](T6_m_chi/m_chi_18.svg)\n",
       "\n",
       "Momenten-Krümmungs-Beziehung des Querschnitts 18\n",
       ":::"
      ],
      "text/plain": [
       "<IPython.core.display.Markdown object>"
      ]
     },
     "metadata": {},
     "output_type": "display_data"
    },
    {
     "data": {
      "text/markdown": [
       "::: {#fig-mchi_anhang layout-ncol=2}\n",
       "\n",
       "![](T6_m_chi/qs_19.svg)\n",
       "\n",
       "![](T6_m_chi/m_chi_19.svg)\n",
       "\n",
       "Momenten-Krümmungs-Beziehung des Querschnitts 19\n",
       ":::"
      ],
      "text/plain": [
       "<IPython.core.display.Markdown object>"
      ]
     },
     "metadata": {},
     "output_type": "display_data"
    },
    {
     "data": {
      "text/markdown": [
       "::: {#fig-mchi_anhang layout-ncol=2}\n",
       "\n",
       "![](T6_m_chi/qs_20.svg)\n",
       "\n",
       "![](T6_m_chi/m_chi_20.svg)\n",
       "\n",
       "Momenten-Krümmungs-Beziehung des Querschnitts 20\n",
       ":::"
      ],
      "text/plain": [
       "<IPython.core.display.Markdown object>"
      ]
     },
     "metadata": {},
     "output_type": "display_data"
    },
    {
     "data": {
      "text/markdown": [
       "::: {#fig-mchi_anhang layout-ncol=2}\n",
       "\n",
       "![](T6_m_chi/qs_21.svg)\n",
       "\n",
       "![](T6_m_chi/m_chi_21.svg)\n",
       "\n",
       "Momenten-Krümmungs-Beziehung des Querschnitts 21\n",
       ":::"
      ],
      "text/plain": [
       "<IPython.core.display.Markdown object>"
      ]
     },
     "metadata": {},
     "output_type": "display_data"
    },
    {
     "data": {
      "text/markdown": [
       "::: {#fig-mchi_anhang layout-ncol=2}\n",
       "\n",
       "![](T6_m_chi/qs_22.svg)\n",
       "\n",
       "![](T6_m_chi/m_chi_22.svg)\n",
       "\n",
       "Momenten-Krümmungs-Beziehung des Querschnitts 22\n",
       ":::"
      ],
      "text/plain": [
       "<IPython.core.display.Markdown object>"
      ]
     },
     "metadata": {},
     "output_type": "display_data"
    },
    {
     "data": {
      "text/markdown": [
       "::: {#fig-mchi_anhang layout-ncol=2}\n",
       "\n",
       "![](T6_m_chi/qs_23.svg)\n",
       "\n",
       "![](T6_m_chi/m_chi_23.svg)\n",
       "\n",
       "Momenten-Krümmungs-Beziehung des Querschnitts 23\n",
       ":::"
      ],
      "text/plain": [
       "<IPython.core.display.Markdown object>"
      ]
     },
     "metadata": {},
     "output_type": "display_data"
    },
    {
     "data": {
      "text/markdown": [
       "::: {#fig-mchi_anhang layout-ncol=2}\n",
       "\n",
       "![](T6_m_chi/qs_24.svg)\n",
       "\n",
       "![](T6_m_chi/m_chi_24.svg)\n",
       "\n",
       "Momenten-Krümmungs-Beziehung des Querschnitts 24\n",
       ":::"
      ],
      "text/plain": [
       "<IPython.core.display.Markdown object>"
      ]
     },
     "metadata": {},
     "output_type": "display_data"
    },
    {
     "data": {
      "text/markdown": [
       "::: {#fig-mchi_anhang layout-ncol=2}\n",
       "\n",
       "![](T6_m_chi/qs_25.svg)\n",
       "\n",
       "![](T6_m_chi/m_chi_25.svg)\n",
       "\n",
       "Momenten-Krümmungs-Beziehung des Querschnitts 25\n",
       ":::"
      ],
      "text/plain": [
       "<IPython.core.display.Markdown object>"
      ]
     },
     "metadata": {},
     "output_type": "display_data"
    },
    {
     "data": {
      "text/markdown": [
       "::: {#fig-mchi_anhang layout-ncol=2}\n",
       "\n",
       "![](T6_m_chi/qs_26.svg)\n",
       "\n",
       "![](T6_m_chi/m_chi_26.svg)\n",
       "\n",
       "Momenten-Krümmungs-Beziehung des Querschnitts 26\n",
       ":::"
      ],
      "text/plain": [
       "<IPython.core.display.Markdown object>"
      ]
     },
     "metadata": {},
     "output_type": "display_data"
    },
    {
     "data": {
      "text/markdown": [
       "::: {#fig-mchi_anhang layout-ncol=2}\n",
       "\n",
       "![](T6_m_chi/qs_27.svg)\n",
       "\n",
       "![](T6_m_chi/m_chi_27.svg)\n",
       "\n",
       "Momenten-Krümmungs-Beziehung des Querschnitts 27\n",
       ":::"
      ],
      "text/plain": [
       "<IPython.core.display.Markdown object>"
      ]
     },
     "metadata": {},
     "output_type": "display_data"
    },
    {
     "data": {
      "text/markdown": [
       "::: {#fig-mchi_anhang layout-ncol=2}\n",
       "\n",
       "![](T6_m_chi/qs_28.svg)\n",
       "\n",
       "![](T6_m_chi/m_chi_28.svg)\n",
       "\n",
       "Momenten-Krümmungs-Beziehung des Querschnitts 28\n",
       ":::"
      ],
      "text/plain": [
       "<IPython.core.display.Markdown object>"
      ]
     },
     "metadata": {},
     "output_type": "display_data"
    },
    {
     "data": {
      "text/markdown": [
       "::: {#fig-mchi_anhang layout-ncol=2}\n",
       "\n",
       "![](T6_m_chi/qs_29.svg)\n",
       "\n",
       "![](T6_m_chi/m_chi_29.svg)\n",
       "\n",
       "Momenten-Krümmungs-Beziehung des Querschnitts 29\n",
       ":::"
      ],
      "text/plain": [
       "<IPython.core.display.Markdown object>"
      ]
     },
     "metadata": {},
     "output_type": "display_data"
    },
    {
     "data": {
      "text/markdown": [
       "::: {#fig-mchi_anhang layout-ncol=2}\n",
       "\n",
       "![](T6_m_chi/qs_30.svg)\n",
       "\n",
       "![](T6_m_chi/m_chi_30.svg)\n",
       "\n",
       "Momenten-Krümmungs-Beziehung des Querschnitts 30\n",
       ":::"
      ],
      "text/plain": [
       "<IPython.core.display.Markdown object>"
      ]
     },
     "metadata": {},
     "output_type": "display_data"
    },
    {
     "data": {
      "text/markdown": [
       "::: {#fig-mchi_anhang layout-ncol=2}\n",
       "\n",
       "![](T6_m_chi/qs_31.svg)\n",
       "\n",
       "![](T6_m_chi/m_chi_31.svg)\n",
       "\n",
       "Momenten-Krümmungs-Beziehung des Querschnitts 31\n",
       ":::"
      ],
      "text/plain": [
       "<IPython.core.display.Markdown object>"
      ]
     },
     "metadata": {},
     "output_type": "display_data"
    },
    {
     "data": {
      "text/markdown": [
       "::: {#fig-mchi_anhang layout-ncol=2}\n",
       "\n",
       "![](T6_m_chi/qs_32.svg)\n",
       "\n",
       "![](T6_m_chi/m_chi_32.svg)\n",
       "\n",
       "Momenten-Krümmungs-Beziehung des Querschnitts 32\n",
       ":::"
      ],
      "text/plain": [
       "<IPython.core.display.Markdown object>"
      ]
     },
     "metadata": {},
     "output_type": "display_data"
    },
    {
     "data": {
      "text/markdown": [
       "::: {#fig-mchi_anhang layout-ncol=2}\n",
       "\n",
       "![](T6_m_chi/qs_33.svg)\n",
       "\n",
       "![](T6_m_chi/m_chi_33.svg)\n",
       "\n",
       "Momenten-Krümmungs-Beziehung des Querschnitts 33\n",
       ":::"
      ],
      "text/plain": [
       "<IPython.core.display.Markdown object>"
      ]
     },
     "metadata": {},
     "output_type": "display_data"
    },
    {
     "data": {
      "text/markdown": [
       "::: {#fig-mchi_anhang layout-ncol=2}\n",
       "\n",
       "![](T6_m_chi/qs_34.svg)\n",
       "\n",
       "![](T6_m_chi/m_chi_34.svg)\n",
       "\n",
       "Momenten-Krümmungs-Beziehung des Querschnitts 34\n",
       ":::"
      ],
      "text/plain": [
       "<IPython.core.display.Markdown object>"
      ]
     },
     "metadata": {},
     "output_type": "display_data"
    },
    {
     "data": {
      "text/markdown": [
       "::: {#fig-mchi_anhang layout-ncol=2}\n",
       "\n",
       "![](T6_m_chi/qs_35.svg)\n",
       "\n",
       "![](T6_m_chi/m_chi_35.svg)\n",
       "\n",
       "Momenten-Krümmungs-Beziehung des Querschnitts 35\n",
       ":::"
      ],
      "text/plain": [
       "<IPython.core.display.Markdown object>"
      ]
     },
     "metadata": {},
     "output_type": "display_data"
    },
    {
     "data": {
      "text/markdown": [
       "::: {#fig-mchi_anhang layout-ncol=2}\n",
       "\n",
       "![](T6_m_chi/qs_36.svg)\n",
       "\n",
       "![](T6_m_chi/m_chi_36.svg)\n",
       "\n",
       "Momenten-Krümmungs-Beziehung des Querschnitts 36\n",
       ":::"
      ],
      "text/plain": [
       "<IPython.core.display.Markdown object>"
      ]
     },
     "metadata": {},
     "output_type": "display_data"
    },
    {
     "data": {
      "text/markdown": [
       "::: {#fig-mchi_anhang layout-ncol=2}\n",
       "\n",
       "![](T6_m_chi/qs_37.svg)\n",
       "\n",
       "![](T6_m_chi/m_chi_37.svg)\n",
       "\n",
       "Momenten-Krümmungs-Beziehung des Querschnitts 37\n",
       ":::"
      ],
      "text/plain": [
       "<IPython.core.display.Markdown object>"
      ]
     },
     "metadata": {},
     "output_type": "display_data"
    },
    {
     "data": {
      "text/markdown": [
       "::: {#fig-mchi_anhang layout-ncol=2}\n",
       "\n",
       "![](T6_m_chi/qs_38.svg)\n",
       "\n",
       "![](T6_m_chi/m_chi_38.svg)\n",
       "\n",
       "Momenten-Krümmungs-Beziehung des Querschnitts 38\n",
       ":::"
      ],
      "text/plain": [
       "<IPython.core.display.Markdown object>"
      ]
     },
     "metadata": {},
     "output_type": "display_data"
    },
    {
     "data": {
      "text/markdown": [
       "::: {#fig-mchi_anhang layout-ncol=2}\n",
       "\n",
       "![](T6_m_chi/qs_39.svg)\n",
       "\n",
       "![](T6_m_chi/m_chi_39.svg)\n",
       "\n",
       "Momenten-Krümmungs-Beziehung des Querschnitts 39\n",
       ":::"
      ],
      "text/plain": [
       "<IPython.core.display.Markdown object>"
      ]
     },
     "metadata": {},
     "output_type": "display_data"
    },
    {
     "data": {
      "text/markdown": [
       "::: {#fig-mchi_anhang layout-ncol=2}\n",
       "\n",
       "![](T6_m_chi/qs_40.svg)\n",
       "\n",
       "![](T6_m_chi/m_chi_40.svg)\n",
       "\n",
       "Momenten-Krümmungs-Beziehung des Querschnitts 40\n",
       ":::"
      ],
      "text/plain": [
       "<IPython.core.display.Markdown object>"
      ]
     },
     "metadata": {},
     "output_type": "display_data"
    },
    {
     "data": {
      "text/markdown": [
       "::: {#fig-mchi_anhang layout-ncol=2}\n",
       "\n",
       "![](T6_m_chi/qs_41.svg)\n",
       "\n",
       "![](T6_m_chi/m_chi_41.svg)\n",
       "\n",
       "Momenten-Krümmungs-Beziehung des Querschnitts 41\n",
       ":::"
      ],
      "text/plain": [
       "<IPython.core.display.Markdown object>"
      ]
     },
     "metadata": {},
     "output_type": "display_data"
    },
    {
     "data": {
      "text/markdown": [
       "::: {#fig-mchi_anhang layout-ncol=2}\n",
       "\n",
       "![](T6_m_chi/qs_42.svg)\n",
       "\n",
       "![](T6_m_chi/m_chi_42.svg)\n",
       "\n",
       "Momenten-Krümmungs-Beziehung des Querschnitts 42\n",
       ":::"
      ],
      "text/plain": [
       "<IPython.core.display.Markdown object>"
      ]
     },
     "metadata": {},
     "output_type": "display_data"
    },
    {
     "data": {
      "text/markdown": [
       "::: {#fig-mchi_anhang layout-ncol=2}\n",
       "\n",
       "![](T6_m_chi/qs_43.svg)\n",
       "\n",
       "![](T6_m_chi/m_chi_43.svg)\n",
       "\n",
       "Momenten-Krümmungs-Beziehung des Querschnitts 43\n",
       ":::"
      ],
      "text/plain": [
       "<IPython.core.display.Markdown object>"
      ]
     },
     "metadata": {},
     "output_type": "display_data"
    },
    {
     "data": {
      "text/markdown": [
       "::: {#fig-mchi_anhang layout-ncol=2}\n",
       "\n",
       "![](T6_m_chi/qs_44.svg)\n",
       "\n",
       "![](T6_m_chi/m_chi_44.svg)\n",
       "\n",
       "Momenten-Krümmungs-Beziehung des Querschnitts 44\n",
       ":::"
      ],
      "text/plain": [
       "<IPython.core.display.Markdown object>"
      ]
     },
     "metadata": {},
     "output_type": "display_data"
    },
    {
     "data": {
      "text/markdown": [
       "::: {#fig-mchi_anhang layout-ncol=2}\n",
       "\n",
       "![](T6_m_chi/qs_45.svg)\n",
       "\n",
       "![](T6_m_chi/m_chi_45.svg)\n",
       "\n",
       "Momenten-Krümmungs-Beziehung des Querschnitts 45\n",
       ":::"
      ],
      "text/plain": [
       "<IPython.core.display.Markdown object>"
      ]
     },
     "metadata": {},
     "output_type": "display_data"
    },
    {
     "data": {
      "text/markdown": [
       "::: {#fig-mchi_anhang layout-ncol=2}\n",
       "\n",
       "![](T6_m_chi/qs_46.svg)\n",
       "\n",
       "![](T6_m_chi/m_chi_46.svg)\n",
       "\n",
       "Momenten-Krümmungs-Beziehung des Querschnitts 46\n",
       ":::"
      ],
      "text/plain": [
       "<IPython.core.display.Markdown object>"
      ]
     },
     "metadata": {},
     "output_type": "display_data"
    },
    {
     "data": {
      "text/markdown": [
       "::: {#fig-mchi_anhang layout-ncol=2}\n",
       "\n",
       "![](T6_m_chi/qs_47.svg)\n",
       "\n",
       "![](T6_m_chi/m_chi_47.svg)\n",
       "\n",
       "Momenten-Krümmungs-Beziehung des Querschnitts 47\n",
       ":::"
      ],
      "text/plain": [
       "<IPython.core.display.Markdown object>"
      ]
     },
     "metadata": {},
     "output_type": "display_data"
    },
    {
     "data": {
      "text/markdown": [
       "::: {#fig-mchi_anhang layout-ncol=2}\n",
       "\n",
       "![](T6_m_chi/qs_48.svg)\n",
       "\n",
       "![](T6_m_chi/m_chi_48.svg)\n",
       "\n",
       "Momenten-Krümmungs-Beziehung des Querschnitts 48\n",
       ":::"
      ],
      "text/plain": [
       "<IPython.core.display.Markdown object>"
      ]
     },
     "metadata": {},
     "output_type": "display_data"
    },
    {
     "data": {
      "text/markdown": [
       "::: {#fig-mchi_anhang layout-ncol=2}\n",
       "\n",
       "![](T6_m_chi/qs_49.svg)\n",
       "\n",
       "![](T6_m_chi/m_chi_49.svg)\n",
       "\n",
       "Momenten-Krümmungs-Beziehung des Querschnitts 49\n",
       ":::"
      ],
      "text/plain": [
       "<IPython.core.display.Markdown object>"
      ]
     },
     "metadata": {},
     "output_type": "display_data"
    },
    {
     "data": {
      "text/markdown": [
       "::: {#fig-mchi_anhang layout-ncol=2}\n",
       "\n",
       "![](T6_m_chi/qs_50.svg)\n",
       "\n",
       "![](T6_m_chi/m_chi_50.svg)\n",
       "\n",
       "Momenten-Krümmungs-Beziehung des Querschnitts 50\n",
       ":::"
      ],
      "text/plain": [
       "<IPython.core.display.Markdown object>"
      ]
     },
     "metadata": {},
     "output_type": "display_data"
    },
    {
     "data": {
      "text/markdown": [
       "::: {#fig-mchi_anhang layout-ncol=2}\n",
       "\n",
       "![](T6_m_chi/qs_51.svg)\n",
       "\n",
       "![](T6_m_chi/m_chi_51.svg)\n",
       "\n",
       "Momenten-Krümmungs-Beziehung des Querschnitts 51\n",
       ":::"
      ],
      "text/plain": [
       "<IPython.core.display.Markdown object>"
      ]
     },
     "metadata": {},
     "output_type": "display_data"
    },
    {
     "data": {
      "text/markdown": [
       "::: {#fig-mchi_anhang layout-ncol=2}\n",
       "\n",
       "![](T6_m_chi/qs_52.svg)\n",
       "\n",
       "![](T6_m_chi/m_chi_52.svg)\n",
       "\n",
       "Momenten-Krümmungs-Beziehung des Querschnitts 52\n",
       ":::"
      ],
      "text/plain": [
       "<IPython.core.display.Markdown object>"
      ]
     },
     "metadata": {},
     "output_type": "display_data"
    },
    {
     "data": {
      "text/markdown": [
       "::: {#fig-mchi_anhang layout-ncol=2}\n",
       "\n",
       "![](T6_m_chi/qs_53.svg)\n",
       "\n",
       "![](T6_m_chi/m_chi_53.svg)\n",
       "\n",
       "Momenten-Krümmungs-Beziehung des Querschnitts 53\n",
       ":::"
      ],
      "text/plain": [
       "<IPython.core.display.Markdown object>"
      ]
     },
     "metadata": {},
     "output_type": "display_data"
    },
    {
     "data": {
      "text/markdown": [
       "::: {#fig-mchi_anhang layout-ncol=2}\n",
       "\n",
       "![](T6_m_chi/qs_54.svg)\n",
       "\n",
       "![](T6_m_chi/m_chi_54.svg)\n",
       "\n",
       "Momenten-Krümmungs-Beziehung des Querschnitts 54\n",
       ":::"
      ],
      "text/plain": [
       "<IPython.core.display.Markdown object>"
      ]
     },
     "metadata": {},
     "output_type": "display_data"
    },
    {
     "data": {
      "text/markdown": [
       "::: {#fig-mchi_anhang layout-ncol=2}\n",
       "\n",
       "![](T6_m_chi/qs_55.svg)\n",
       "\n",
       "![](T6_m_chi/m_chi_55.svg)\n",
       "\n",
       "Momenten-Krümmungs-Beziehung des Querschnitts 55\n",
       ":::"
      ],
      "text/plain": [
       "<IPython.core.display.Markdown object>"
      ]
     },
     "metadata": {},
     "output_type": "display_data"
    },
    {
     "data": {
      "text/markdown": [
       "::: {#fig-mchi_anhang layout-ncol=2}\n",
       "\n",
       "![](T6_m_chi/qs_56.svg)\n",
       "\n",
       "![](T6_m_chi/m_chi_56.svg)\n",
       "\n",
       "Momenten-Krümmungs-Beziehung des Querschnitts 56\n",
       ":::"
      ],
      "text/plain": [
       "<IPython.core.display.Markdown object>"
      ]
     },
     "metadata": {},
     "output_type": "display_data"
    },
    {
     "data": {
      "text/markdown": [
       "::: {#fig-mchi_anhang layout-ncol=2}\n",
       "\n",
       "![](T6_m_chi/qs_57.svg)\n",
       "\n",
       "![](T6_m_chi/m_chi_57.svg)\n",
       "\n",
       "Momenten-Krümmungs-Beziehung des Querschnitts 57\n",
       ":::"
      ],
      "text/plain": [
       "<IPython.core.display.Markdown object>"
      ]
     },
     "metadata": {},
     "output_type": "display_data"
    },
    {
     "data": {
      "text/markdown": [
       "::: {#fig-mchi_anhang layout-ncol=2}\n",
       "\n",
       "![](T6_m_chi/qs_58.svg)\n",
       "\n",
       "![](T6_m_chi/m_chi_58.svg)\n",
       "\n",
       "Momenten-Krümmungs-Beziehung des Querschnitts 58\n",
       ":::"
      ],
      "text/plain": [
       "<IPython.core.display.Markdown object>"
      ]
     },
     "metadata": {},
     "output_type": "display_data"
    },
    {
     "data": {
      "text/markdown": [
       "::: {#fig-mchi_anhang layout-ncol=2}\n",
       "\n",
       "![](T6_m_chi/qs_59.svg)\n",
       "\n",
       "![](T6_m_chi/m_chi_59.svg)\n",
       "\n",
       "Momenten-Krümmungs-Beziehung des Querschnitts 59\n",
       ":::"
      ],
      "text/plain": [
       "<IPython.core.display.Markdown object>"
      ]
     },
     "metadata": {},
     "output_type": "display_data"
    },
    {
     "data": {
      "text/markdown": [
       "::: {#fig-mchi_anhang layout-ncol=2}\n",
       "\n",
       "![](T6_m_chi/qs_60.svg)\n",
       "\n",
       "![](T6_m_chi/m_chi_60.svg)\n",
       "\n",
       "Momenten-Krümmungs-Beziehung des Querschnitts 60\n",
       ":::"
      ],
      "text/plain": [
       "<IPython.core.display.Markdown object>"
      ]
     },
     "metadata": {},
     "output_type": "display_data"
    },
    {
     "data": {
      "text/markdown": [
       "::: {#fig-mchi_anhang layout-ncol=2}\n",
       "\n",
       "![](T6_m_chi/qs_61.svg)\n",
       "\n",
       "![](T6_m_chi/m_chi_61.svg)\n",
       "\n",
       "Momenten-Krümmungs-Beziehung des Querschnitts 61\n",
       ":::"
      ],
      "text/plain": [
       "<IPython.core.display.Markdown object>"
      ]
     },
     "metadata": {},
     "output_type": "display_data"
    },
    {
     "data": {
      "text/markdown": [
       "::: {#fig-mchi_anhang layout-ncol=2}\n",
       "\n",
       "![](T6_m_chi/qs_62.svg)\n",
       "\n",
       "![](T6_m_chi/m_chi_62.svg)\n",
       "\n",
       "Momenten-Krümmungs-Beziehung des Querschnitts 62\n",
       ":::"
      ],
      "text/plain": [
       "<IPython.core.display.Markdown object>"
      ]
     },
     "metadata": {},
     "output_type": "display_data"
    },
    {
     "data": {
      "text/markdown": [
       "::: {#fig-mchi_anhang layout-ncol=2}\n",
       "\n",
       "![](T6_m_chi/qs_63.svg)\n",
       "\n",
       "![](T6_m_chi/m_chi_63.svg)\n",
       "\n",
       "Momenten-Krümmungs-Beziehung des Querschnitts 63\n",
       ":::"
      ],
      "text/plain": [
       "<IPython.core.display.Markdown object>"
      ]
     },
     "metadata": {},
     "output_type": "display_data"
    },
    {
     "data": {
      "text/markdown": [
       "::: {#fig-mchi_anhang layout-ncol=2}\n",
       "\n",
       "![](T6_m_chi/qs_64.svg)\n",
       "\n",
       "![](T6_m_chi/m_chi_64.svg)\n",
       "\n",
       "Momenten-Krümmungs-Beziehung des Querschnitts 64\n",
       ":::"
      ],
      "text/plain": [
       "<IPython.core.display.Markdown object>"
      ]
     },
     "metadata": {},
     "output_type": "display_data"
    },
    {
     "data": {
      "text/markdown": [
       "::: {#fig-mchi_anhang layout-ncol=2}\n",
       "\n",
       "![](T6_m_chi/qs_65.svg)\n",
       "\n",
       "![](T6_m_chi/m_chi_65.svg)\n",
       "\n",
       "Momenten-Krümmungs-Beziehung des Querschnitts 65\n",
       ":::"
      ],
      "text/plain": [
       "<IPython.core.display.Markdown object>"
      ]
     },
     "metadata": {},
     "output_type": "display_data"
    },
    {
     "data": {
      "text/markdown": [
       "::: {#fig-mchi_anhang layout-ncol=2}\n",
       "\n",
       "![](T6_m_chi/qs_66.svg)\n",
       "\n",
       "![](T6_m_chi/m_chi_66.svg)\n",
       "\n",
       "Momenten-Krümmungs-Beziehung des Querschnitts 66\n",
       ":::"
      ],
      "text/plain": [
       "<IPython.core.display.Markdown object>"
      ]
     },
     "metadata": {},
     "output_type": "display_data"
    },
    {
     "data": {
      "text/markdown": [
       "::: {#fig-mchi_anhang layout-ncol=2}\n",
       "\n",
       "![](T6_m_chi/qs_67.svg)\n",
       "\n",
       "![](T6_m_chi/m_chi_67.svg)\n",
       "\n",
       "Momenten-Krümmungs-Beziehung des Querschnitts 67\n",
       ":::"
      ],
      "text/plain": [
       "<IPython.core.display.Markdown object>"
      ]
     },
     "metadata": {},
     "output_type": "display_data"
    },
    {
     "data": {
      "text/markdown": [
       "::: {#fig-mchi_anhang layout-ncol=2}\n",
       "\n",
       "![](T6_m_chi/qs_68.svg)\n",
       "\n",
       "![](T6_m_chi/m_chi_68.svg)\n",
       "\n",
       "Momenten-Krümmungs-Beziehung des Querschnitts 68\n",
       ":::"
      ],
      "text/plain": [
       "<IPython.core.display.Markdown object>"
      ]
     },
     "metadata": {},
     "output_type": "display_data"
    },
    {
     "data": {
      "text/markdown": [
       "::: {#fig-mchi_anhang layout-ncol=2}\n",
       "\n",
       "![](T6_m_chi/qs_69.svg)\n",
       "\n",
       "![](T6_m_chi/m_chi_69.svg)\n",
       "\n",
       "Momenten-Krümmungs-Beziehung des Querschnitts 69\n",
       ":::"
      ],
      "text/plain": [
       "<IPython.core.display.Markdown object>"
      ]
     },
     "metadata": {},
     "output_type": "display_data"
    },
    {
     "data": {
      "text/markdown": [
       "::: {#fig-mchi_anhang layout-ncol=2}\n",
       "\n",
       "![](T6_m_chi/qs_70.svg)\n",
       "\n",
       "![](T6_m_chi/m_chi_70.svg)\n",
       "\n",
       "Momenten-Krümmungs-Beziehung des Querschnitts 70\n",
       ":::"
      ],
      "text/plain": [
       "<IPython.core.display.Markdown object>"
      ]
     },
     "metadata": {},
     "output_type": "display_data"
    },
    {
     "data": {
      "text/markdown": [
       "::: {#fig-mchi_anhang layout-ncol=2}\n",
       "\n",
       "![](T6_m_chi/qs_71.svg)\n",
       "\n",
       "![](T6_m_chi/m_chi_71.svg)\n",
       "\n",
       "Momenten-Krümmungs-Beziehung des Querschnitts 71\n",
       ":::"
      ],
      "text/plain": [
       "<IPython.core.display.Markdown object>"
      ]
     },
     "metadata": {},
     "output_type": "display_data"
    },
    {
     "data": {
      "text/markdown": [
       "::: {#fig-mchi_anhang layout-ncol=2}\n",
       "\n",
       "![](T6_m_chi/qs_72.svg)\n",
       "\n",
       "![](T6_m_chi/m_chi_72.svg)\n",
       "\n",
       "Momenten-Krümmungs-Beziehung des Querschnitts 72\n",
       ":::"
      ],
      "text/plain": [
       "<IPython.core.display.Markdown object>"
      ]
     },
     "metadata": {},
     "output_type": "display_data"
    },
    {
     "data": {
      "text/markdown": [
       "::: {#fig-mchi_anhang layout-ncol=2}\n",
       "\n",
       "![](T6_m_chi/qs_73.svg)\n",
       "\n",
       "![](T6_m_chi/m_chi_73.svg)\n",
       "\n",
       "Momenten-Krümmungs-Beziehung des Querschnitts 73\n",
       ":::"
      ],
      "text/plain": [
       "<IPython.core.display.Markdown object>"
      ]
     },
     "metadata": {},
     "output_type": "display_data"
    },
    {
     "data": {
      "text/markdown": [
       "::: {#fig-mchi_anhang layout-ncol=2}\n",
       "\n",
       "![](T6_m_chi/qs_74.svg)\n",
       "\n",
       "![](T6_m_chi/m_chi_74.svg)\n",
       "\n",
       "Momenten-Krümmungs-Beziehung des Querschnitts 74\n",
       ":::"
      ],
      "text/plain": [
       "<IPython.core.display.Markdown object>"
      ]
     },
     "metadata": {},
     "output_type": "display_data"
    },
    {
     "data": {
      "text/markdown": [
       "::: {#fig-mchi_anhang layout-ncol=2}\n",
       "\n",
       "![](T6_m_chi/qs_75.svg)\n",
       "\n",
       "![](T6_m_chi/m_chi_75.svg)\n",
       "\n",
       "Momenten-Krümmungs-Beziehung des Querschnitts 75\n",
       ":::"
      ],
      "text/plain": [
       "<IPython.core.display.Markdown object>"
      ]
     },
     "metadata": {},
     "output_type": "display_data"
    },
    {
     "data": {
      "text/markdown": [
       "::: {#fig-mchi_anhang layout-ncol=2}\n",
       "\n",
       "![](T6_m_chi/qs_76.svg)\n",
       "\n",
       "![](T6_m_chi/m_chi_76.svg)\n",
       "\n",
       "Momenten-Krümmungs-Beziehung des Querschnitts 76\n",
       ":::"
      ],
      "text/plain": [
       "<IPython.core.display.Markdown object>"
      ]
     },
     "metadata": {},
     "output_type": "display_data"
    },
    {
     "data": {
      "text/markdown": [
       "::: {#fig-mchi_anhang layout-ncol=2}\n",
       "\n",
       "![](T6_m_chi/qs_77.svg)\n",
       "\n",
       "![](T6_m_chi/m_chi_77.svg)\n",
       "\n",
       "Momenten-Krümmungs-Beziehung des Querschnitts 77\n",
       ":::"
      ],
      "text/plain": [
       "<IPython.core.display.Markdown object>"
      ]
     },
     "metadata": {},
     "output_type": "display_data"
    },
    {
     "data": {
      "text/markdown": [
       "::: {#fig-mchi_anhang layout-ncol=2}\n",
       "\n",
       "![](T6_m_chi/qs_78.svg)\n",
       "\n",
       "![](T6_m_chi/m_chi_78.svg)\n",
       "\n",
       "Momenten-Krümmungs-Beziehung des Querschnitts 78\n",
       ":::"
      ],
      "text/plain": [
       "<IPython.core.display.Markdown object>"
      ]
     },
     "metadata": {},
     "output_type": "display_data"
    },
    {
     "data": {
      "text/markdown": [
       "::: {#fig-mchi_anhang layout-ncol=2}\n",
       "\n",
       "![](T6_m_chi/qs_79.svg)\n",
       "\n",
       "![](T6_m_chi/m_chi_79.svg)\n",
       "\n",
       "Momenten-Krümmungs-Beziehung des Querschnitts 79\n",
       ":::"
      ],
      "text/plain": [
       "<IPython.core.display.Markdown object>"
      ]
     },
     "metadata": {},
     "output_type": "display_data"
    },
    {
     "data": {
      "text/markdown": [
       "::: {#fig-mchi_anhang layout-ncol=2}\n",
       "\n",
       "![](T6_m_chi/qs_80.svg)\n",
       "\n",
       "![](T6_m_chi/m_chi_80.svg)\n",
       "\n",
       "Momenten-Krümmungs-Beziehung des Querschnitts 80\n",
       ":::"
      ],
      "text/plain": [
       "<IPython.core.display.Markdown object>"
      ]
     },
     "metadata": {},
     "output_type": "display_data"
    },
    {
     "data": {
      "text/markdown": [
       "::: {#fig-mchi_anhang layout-ncol=2}\n",
       "\n",
       "![](T6_m_chi/qs_81.svg)\n",
       "\n",
       "![](T6_m_chi/m_chi_81.svg)\n",
       "\n",
       "Momenten-Krümmungs-Beziehung des Querschnitts 81\n",
       ":::"
      ],
      "text/plain": [
       "<IPython.core.display.Markdown object>"
      ]
     },
     "metadata": {},
     "output_type": "display_data"
    },
    {
     "data": {
      "text/markdown": [
       "::: {#fig-mchi_anhang layout-ncol=2}\n",
       "\n",
       "![](T6_m_chi/qs_82.svg)\n",
       "\n",
       "![](T6_m_chi/m_chi_82.svg)\n",
       "\n",
       "Momenten-Krümmungs-Beziehung des Querschnitts 82\n",
       ":::"
      ],
      "text/plain": [
       "<IPython.core.display.Markdown object>"
      ]
     },
     "metadata": {},
     "output_type": "display_data"
    },
    {
     "data": {
      "text/markdown": [
       "::: {#fig-mchi_anhang layout-ncol=2}\n",
       "\n",
       "![](T6_m_chi/qs_83.svg)\n",
       "\n",
       "![](T6_m_chi/m_chi_83.svg)\n",
       "\n",
       "Momenten-Krümmungs-Beziehung des Querschnitts 83\n",
       ":::"
      ],
      "text/plain": [
       "<IPython.core.display.Markdown object>"
      ]
     },
     "metadata": {},
     "output_type": "display_data"
    },
    {
     "data": {
      "text/markdown": [
       "::: {#fig-mchi_anhang layout-ncol=2}\n",
       "\n",
       "![](T6_m_chi/qs_84.svg)\n",
       "\n",
       "![](T6_m_chi/m_chi_84.svg)\n",
       "\n",
       "Momenten-Krümmungs-Beziehung des Querschnitts 84\n",
       ":::"
      ],
      "text/plain": [
       "<IPython.core.display.Markdown object>"
      ]
     },
     "metadata": {},
     "output_type": "display_data"
    },
    {
     "data": {
      "text/markdown": [
       "::: {#fig-mchi_anhang layout-ncol=2}\n",
       "\n",
       "![](T6_m_chi/qs_85.svg)\n",
       "\n",
       "![](T6_m_chi/m_chi_85.svg)\n",
       "\n",
       "Momenten-Krümmungs-Beziehung des Querschnitts 85\n",
       ":::"
      ],
      "text/plain": [
       "<IPython.core.display.Markdown object>"
      ]
     },
     "metadata": {},
     "output_type": "display_data"
    },
    {
     "data": {
      "text/markdown": [
       "::: {#fig-mchi_anhang layout-ncol=2}\n",
       "\n",
       "![](T6_m_chi/qs_86.svg)\n",
       "\n",
       "![](T6_m_chi/m_chi_86.svg)\n",
       "\n",
       "Momenten-Krümmungs-Beziehung des Querschnitts 86\n",
       ":::"
      ],
      "text/plain": [
       "<IPython.core.display.Markdown object>"
      ]
     },
     "metadata": {},
     "output_type": "display_data"
    },
    {
     "data": {
      "text/markdown": [
       "::: {#fig-mchi_anhang layout-ncol=2}\n",
       "\n",
       "![](T6_m_chi/qs_87.svg)\n",
       "\n",
       "![](T6_m_chi/m_chi_87.svg)\n",
       "\n",
       "Momenten-Krümmungs-Beziehung des Querschnitts 87\n",
       ":::"
      ],
      "text/plain": [
       "<IPython.core.display.Markdown object>"
      ]
     },
     "metadata": {},
     "output_type": "display_data"
    },
    {
     "data": {
      "text/markdown": [
       "::: {#fig-mchi_anhang layout-ncol=2}\n",
       "\n",
       "![](T6_m_chi/qs_88.svg)\n",
       "\n",
       "![](T6_m_chi/m_chi_88.svg)\n",
       "\n",
       "Momenten-Krümmungs-Beziehung des Querschnitts 88\n",
       ":::"
      ],
      "text/plain": [
       "<IPython.core.display.Markdown object>"
      ]
     },
     "metadata": {},
     "output_type": "display_data"
    },
    {
     "data": {
      "text/markdown": [
       "::: {#fig-mchi_anhang layout-ncol=2}\n",
       "\n",
       "![](T6_m_chi/qs_89.svg)\n",
       "\n",
       "![](T6_m_chi/m_chi_89.svg)\n",
       "\n",
       "Momenten-Krümmungs-Beziehung des Querschnitts 89\n",
       ":::"
      ],
      "text/plain": [
       "<IPython.core.display.Markdown object>"
      ]
     },
     "metadata": {},
     "output_type": "display_data"
    },
    {
     "data": {
      "text/markdown": [
       "::: {#fig-mchi_anhang layout-ncol=2}\n",
       "\n",
       "![](T6_m_chi/qs_90.svg)\n",
       "\n",
       "![](T6_m_chi/m_chi_90.svg)\n",
       "\n",
       "Momenten-Krümmungs-Beziehung des Querschnitts 90\n",
       ":::"
      ],
      "text/plain": [
       "<IPython.core.display.Markdown object>"
      ]
     },
     "metadata": {},
     "output_type": "display_data"
    },
    {
     "data": {
      "text/markdown": [
       "::: {#fig-mchi_anhang layout-ncol=2}\n",
       "\n",
       "![](T6_m_chi/qs_91.svg)\n",
       "\n",
       "![](T6_m_chi/m_chi_91.svg)\n",
       "\n",
       "Momenten-Krümmungs-Beziehung des Querschnitts 91\n",
       ":::"
      ],
      "text/plain": [
       "<IPython.core.display.Markdown object>"
      ]
     },
     "metadata": {},
     "output_type": "display_data"
    },
    {
     "data": {
      "text/markdown": [
       "::: {#fig-mchi_anhang layout-ncol=2}\n",
       "\n",
       "![](T6_m_chi/qs_92.svg)\n",
       "\n",
       "![](T6_m_chi/m_chi_92.svg)\n",
       "\n",
       "Momenten-Krümmungs-Beziehung des Querschnitts 92\n",
       ":::"
      ],
      "text/plain": [
       "<IPython.core.display.Markdown object>"
      ]
     },
     "metadata": {},
     "output_type": "display_data"
    },
    {
     "data": {
      "text/markdown": [
       "::: {#fig-mchi_anhang layout-ncol=2}\n",
       "\n",
       "![](T6_m_chi/qs_93.svg)\n",
       "\n",
       "![](T6_m_chi/m_chi_93.svg)\n",
       "\n",
       "Momenten-Krümmungs-Beziehung des Querschnitts 93\n",
       ":::"
      ],
      "text/plain": [
       "<IPython.core.display.Markdown object>"
      ]
     },
     "metadata": {},
     "output_type": "display_data"
    },
    {
     "data": {
      "text/markdown": [
       "::: {#fig-mchi_anhang layout-ncol=2}\n",
       "\n",
       "![](T6_m_chi/qs_94.svg)\n",
       "\n",
       "![](T6_m_chi/m_chi_94.svg)\n",
       "\n",
       "Momenten-Krümmungs-Beziehung des Querschnitts 94\n",
       ":::"
      ],
      "text/plain": [
       "<IPython.core.display.Markdown object>"
      ]
     },
     "metadata": {},
     "output_type": "display_data"
    },
    {
     "data": {
      "text/markdown": [
       "::: {#fig-mchi_anhang layout-ncol=2}\n",
       "\n",
       "![](T6_m_chi/qs_95.svg)\n",
       "\n",
       "![](T6_m_chi/m_chi_95.svg)\n",
       "\n",
       "Momenten-Krümmungs-Beziehung des Querschnitts 95\n",
       ":::"
      ],
      "text/plain": [
       "<IPython.core.display.Markdown object>"
      ]
     },
     "metadata": {},
     "output_type": "display_data"
    },
    {
     "data": {
      "text/markdown": [
       "::: {#fig-mchi_anhang layout-ncol=2}\n",
       "\n",
       "![](T6_m_chi/qs_96.svg)\n",
       "\n",
       "![](T6_m_chi/m_chi_96.svg)\n",
       "\n",
       "Momenten-Krümmungs-Beziehung des Querschnitts 96\n",
       ":::"
      ],
      "text/plain": [
       "<IPython.core.display.Markdown object>"
      ]
     },
     "metadata": {},
     "output_type": "display_data"
    },
    {
     "data": {
      "text/markdown": [
       "::: {#fig-mchi_anhang layout-ncol=2}\n",
       "\n",
       "![](T6_m_chi/qs_97.svg)\n",
       "\n",
       "![](T6_m_chi/m_chi_97.svg)\n",
       "\n",
       "Momenten-Krümmungs-Beziehung des Querschnitts 97\n",
       ":::"
      ],
      "text/plain": [
       "<IPython.core.display.Markdown object>"
      ]
     },
     "metadata": {},
     "output_type": "display_data"
    },
    {
     "data": {
      "text/markdown": [
       "::: {#fig-mchi_anhang layout-ncol=2}\n",
       "\n",
       "![](T6_m_chi/qs_98.svg)\n",
       "\n",
       "![](T6_m_chi/m_chi_98.svg)\n",
       "\n",
       "Momenten-Krümmungs-Beziehung des Querschnitts 98\n",
       ":::"
      ],
      "text/plain": [
       "<IPython.core.display.Markdown object>"
      ]
     },
     "metadata": {},
     "output_type": "display_data"
    },
    {
     "data": {
      "text/markdown": [
       "::: {#fig-mchi_anhang layout-ncol=2}\n",
       "\n",
       "![](T6_m_chi/qs_99.svg)\n",
       "\n",
       "![](T6_m_chi/m_chi_99.svg)\n",
       "\n",
       "Momenten-Krümmungs-Beziehung des Querschnitts 99\n",
       ":::"
      ],
      "text/plain": [
       "<IPython.core.display.Markdown object>"
      ]
     },
     "metadata": {},
     "output_type": "display_data"
    },
    {
     "data": {
      "text/markdown": [
       "::: {#fig-mchi_anhang layout-ncol=2}\n",
       "\n",
       "![](T6_m_chi/qs_100.svg)\n",
       "\n",
       "![](T6_m_chi/m_chi_100.svg)\n",
       "\n",
       "Momenten-Krümmungs-Beziehung des Querschnitts 100\n",
       ":::"
      ],
      "text/plain": [
       "<IPython.core.display.Markdown object>"
      ]
     },
     "metadata": {},
     "output_type": "display_data"
    },
    {
     "data": {
      "text/markdown": [
       "::: {#fig-mchi_anhang layout-ncol=2}\n",
       "\n",
       "![](T6_m_chi/qs_101.svg)\n",
       "\n",
       "![](T6_m_chi/m_chi_101.svg)\n",
       "\n",
       "Momenten-Krümmungs-Beziehung des Querschnitts 101\n",
       ":::"
      ],
      "text/plain": [
       "<IPython.core.display.Markdown object>"
      ]
     },
     "metadata": {},
     "output_type": "display_data"
    },
    {
     "data": {
      "text/markdown": [
       "::: {#fig-mchi_anhang layout-ncol=2}\n",
       "\n",
       "![](T6_m_chi/qs_102.svg)\n",
       "\n",
       "![](T6_m_chi/m_chi_102.svg)\n",
       "\n",
       "Momenten-Krümmungs-Beziehung des Querschnitts 102\n",
       ":::"
      ],
      "text/plain": [
       "<IPython.core.display.Markdown object>"
      ]
     },
     "metadata": {},
     "output_type": "display_data"
    },
    {
     "data": {
      "text/markdown": [
       "::: {#fig-mchi_anhang layout-ncol=2}\n",
       "\n",
       "![](T6_m_chi/qs_103.svg)\n",
       "\n",
       "![](T6_m_chi/m_chi_103.svg)\n",
       "\n",
       "Momenten-Krümmungs-Beziehung des Querschnitts 103\n",
       ":::"
      ],
      "text/plain": [
       "<IPython.core.display.Markdown object>"
      ]
     },
     "metadata": {},
     "output_type": "display_data"
    },
    {
     "data": {
      "text/markdown": [
       "::: {#fig-mchi_anhang layout-ncol=2}\n",
       "\n",
       "![](T6_m_chi/qs_104.svg)\n",
       "\n",
       "![](T6_m_chi/m_chi_104.svg)\n",
       "\n",
       "Momenten-Krümmungs-Beziehung des Querschnitts 104\n",
       ":::"
      ],
      "text/plain": [
       "<IPython.core.display.Markdown object>"
      ]
     },
     "metadata": {},
     "output_type": "display_data"
    },
    {
     "data": {
      "text/markdown": [
       "::: {#fig-mchi_anhang layout-ncol=2}\n",
       "\n",
       "![](T6_m_chi/qs_105.svg)\n",
       "\n",
       "![](T6_m_chi/m_chi_105.svg)\n",
       "\n",
       "Momenten-Krümmungs-Beziehung des Querschnitts 105\n",
       ":::"
      ],
      "text/plain": [
       "<IPython.core.display.Markdown object>"
      ]
     },
     "metadata": {},
     "output_type": "display_data"
    },
    {
     "data": {
      "text/markdown": [
       "::: {#fig-mchi_anhang layout-ncol=2}\n",
       "\n",
       "![](T6_m_chi/qs_106.svg)\n",
       "\n",
       "![](T6_m_chi/m_chi_106.svg)\n",
       "\n",
       "Momenten-Krümmungs-Beziehung des Querschnitts 106\n",
       ":::"
      ],
      "text/plain": [
       "<IPython.core.display.Markdown object>"
      ]
     },
     "metadata": {},
     "output_type": "display_data"
    },
    {
     "data": {
      "text/markdown": [
       "::: {#fig-mchi_anhang layout-ncol=2}\n",
       "\n",
       "![](T6_m_chi/qs_107.svg)\n",
       "\n",
       "![](T6_m_chi/m_chi_107.svg)\n",
       "\n",
       "Momenten-Krümmungs-Beziehung des Querschnitts 107\n",
       ":::"
      ],
      "text/plain": [
       "<IPython.core.display.Markdown object>"
      ]
     },
     "metadata": {},
     "output_type": "display_data"
    },
    {
     "data": {
      "text/markdown": [
       "::: {#fig-mchi_anhang layout-ncol=2}\n",
       "\n",
       "![](T6_m_chi/qs_108.svg)\n",
       "\n",
       "![](T6_m_chi/m_chi_108.svg)\n",
       "\n",
       "Momenten-Krümmungs-Beziehung des Querschnitts 108\n",
       ":::"
      ],
      "text/plain": [
       "<IPython.core.display.Markdown object>"
      ]
     },
     "metadata": {},
     "output_type": "display_data"
    },
    {
     "data": {
      "text/markdown": [
       "::: {#fig-mchi_anhang layout-ncol=2}\n",
       "\n",
       "![](T6_m_chi/qs_109.svg)\n",
       "\n",
       "![](T6_m_chi/m_chi_109.svg)\n",
       "\n",
       "Momenten-Krümmungs-Beziehung des Querschnitts 109\n",
       ":::"
      ],
      "text/plain": [
       "<IPython.core.display.Markdown object>"
      ]
     },
     "metadata": {},
     "output_type": "display_data"
    },
    {
     "data": {
      "text/markdown": [
       "::: {#fig-mchi_anhang layout-ncol=2}\n",
       "\n",
       "![](T6_m_chi/qs_110.svg)\n",
       "\n",
       "![](T6_m_chi/m_chi_110.svg)\n",
       "\n",
       "Momenten-Krümmungs-Beziehung des Querschnitts 110\n",
       ":::"
      ],
      "text/plain": [
       "<IPython.core.display.Markdown object>"
      ]
     },
     "metadata": {},
     "output_type": "display_data"
    },
    {
     "data": {
      "text/markdown": [
       "::: {#fig-mchi_anhang layout-ncol=2}\n",
       "\n",
       "![](T6_m_chi/qs_111.svg)\n",
       "\n",
       "![](T6_m_chi/m_chi_111.svg)\n",
       "\n",
       "Momenten-Krümmungs-Beziehung des Querschnitts 111\n",
       ":::"
      ],
      "text/plain": [
       "<IPython.core.display.Markdown object>"
      ]
     },
     "metadata": {},
     "output_type": "display_data"
    },
    {
     "data": {
      "text/markdown": [
       "::: {#fig-mchi_anhang layout-ncol=2}\n",
       "\n",
       "![](T6_m_chi/qs_112.svg)\n",
       "\n",
       "![](T6_m_chi/m_chi_112.svg)\n",
       "\n",
       "Momenten-Krümmungs-Beziehung des Querschnitts 112\n",
       ":::"
      ],
      "text/plain": [
       "<IPython.core.display.Markdown object>"
      ]
     },
     "metadata": {},
     "output_type": "display_data"
    },
    {
     "data": {
      "text/markdown": [
       "::: {#fig-mchi_anhang layout-ncol=2}\n",
       "\n",
       "![](T6_m_chi/qs_113.svg)\n",
       "\n",
       "![](T6_m_chi/m_chi_113.svg)\n",
       "\n",
       "Momenten-Krümmungs-Beziehung des Querschnitts 113\n",
       ":::"
      ],
      "text/plain": [
       "<IPython.core.display.Markdown object>"
      ]
     },
     "metadata": {},
     "output_type": "display_data"
    },
    {
     "data": {
      "text/markdown": [
       "::: {#fig-mchi_anhang layout-ncol=2}\n",
       "\n",
       "![](T6_m_chi/qs_114.svg)\n",
       "\n",
       "![](T6_m_chi/m_chi_114.svg)\n",
       "\n",
       "Momenten-Krümmungs-Beziehung des Querschnitts 114\n",
       ":::"
      ],
      "text/plain": [
       "<IPython.core.display.Markdown object>"
      ]
     },
     "metadata": {},
     "output_type": "display_data"
    },
    {
     "data": {
      "text/markdown": [
       "::: {#fig-mchi_anhang layout-ncol=2}\n",
       "\n",
       "![](T6_m_chi/qs_115.svg)\n",
       "\n",
       "![](T6_m_chi/m_chi_115.svg)\n",
       "\n",
       "Momenten-Krümmungs-Beziehung des Querschnitts 115\n",
       ":::"
      ],
      "text/plain": [
       "<IPython.core.display.Markdown object>"
      ]
     },
     "metadata": {},
     "output_type": "display_data"
    },
    {
     "data": {
      "text/markdown": [
       "::: {#fig-mchi_anhang layout-ncol=2}\n",
       "\n",
       "![](T6_m_chi/qs_116.svg)\n",
       "\n",
       "![](T6_m_chi/m_chi_116.svg)\n",
       "\n",
       "Momenten-Krümmungs-Beziehung des Querschnitts 116\n",
       ":::"
      ],
      "text/plain": [
       "<IPython.core.display.Markdown object>"
      ]
     },
     "metadata": {},
     "output_type": "display_data"
    },
    {
     "data": {
      "text/markdown": [
       "::: {#fig-mchi_anhang layout-ncol=2}\n",
       "\n",
       "![](T6_m_chi/qs_117.svg)\n",
       "\n",
       "![](T6_m_chi/m_chi_117.svg)\n",
       "\n",
       "Momenten-Krümmungs-Beziehung des Querschnitts 117\n",
       ":::"
      ],
      "text/plain": [
       "<IPython.core.display.Markdown object>"
      ]
     },
     "metadata": {},
     "output_type": "display_data"
    },
    {
     "data": {
      "text/markdown": [
       "::: {#fig-mchi_anhang layout-ncol=2}\n",
       "\n",
       "![](T6_m_chi/qs_118.svg)\n",
       "\n",
       "![](T6_m_chi/m_chi_118.svg)\n",
       "\n",
       "Momenten-Krümmungs-Beziehung des Querschnitts 118\n",
       ":::"
      ],
      "text/plain": [
       "<IPython.core.display.Markdown object>"
      ]
     },
     "metadata": {},
     "output_type": "display_data"
    },
    {
     "data": {
      "text/markdown": [
       "::: {#fig-mchi_anhang layout-ncol=2}\n",
       "\n",
       "![](T6_m_chi/qs_119.svg)\n",
       "\n",
       "![](T6_m_chi/m_chi_119.svg)\n",
       "\n",
       "Momenten-Krümmungs-Beziehung des Querschnitts 119\n",
       ":::"
      ],
      "text/plain": [
       "<IPython.core.display.Markdown object>"
      ]
     },
     "metadata": {},
     "output_type": "display_data"
    },
    {
     "data": {
      "text/markdown": [
       "::: {#fig-mchi_anhang layout-ncol=2}\n",
       "\n",
       "![](T6_m_chi/qs_120.svg)\n",
       "\n",
       "![](T6_m_chi/m_chi_120.svg)\n",
       "\n",
       "Momenten-Krümmungs-Beziehung des Querschnitts 120\n",
       ":::"
      ],
      "text/plain": [
       "<IPython.core.display.Markdown object>"
      ]
     },
     "metadata": {},
     "output_type": "display_data"
    },
    {
     "data": {
      "text/markdown": [
       "::: {#fig-mchi_anhang layout-ncol=2}\n",
       "\n",
       "![](T6_m_chi/qs_121.svg)\n",
       "\n",
       "![](T6_m_chi/m_chi_121.svg)\n",
       "\n",
       "Momenten-Krümmungs-Beziehung des Querschnitts 121\n",
       ":::"
      ],
      "text/plain": [
       "<IPython.core.display.Markdown object>"
      ]
     },
     "metadata": {},
     "output_type": "display_data"
    },
    {
     "data": {
      "text/markdown": [
       "::: {#fig-mchi_anhang layout-ncol=2}\n",
       "\n",
       "![](T6_m_chi/qs_122.svg)\n",
       "\n",
       "![](T6_m_chi/m_chi_122.svg)\n",
       "\n",
       "Momenten-Krümmungs-Beziehung des Querschnitts 122\n",
       ":::"
      ],
      "text/plain": [
       "<IPython.core.display.Markdown object>"
      ]
     },
     "metadata": {},
     "output_type": "display_data"
    },
    {
     "data": {
      "text/markdown": [
       "::: {#fig-mchi_anhang layout-ncol=2}\n",
       "\n",
       "![](T6_m_chi/qs_123.svg)\n",
       "\n",
       "![](T6_m_chi/m_chi_123.svg)\n",
       "\n",
       "Momenten-Krümmungs-Beziehung des Querschnitts 123\n",
       ":::"
      ],
      "text/plain": [
       "<IPython.core.display.Markdown object>"
      ]
     },
     "metadata": {},
     "output_type": "display_data"
    },
    {
     "data": {
      "text/markdown": [
       "::: {#fig-mchi_anhang layout-ncol=2}\n",
       "\n",
       "![](T6_m_chi/qs_124.svg)\n",
       "\n",
       "![](T6_m_chi/m_chi_124.svg)\n",
       "\n",
       "Momenten-Krümmungs-Beziehung des Querschnitts 124\n",
       ":::"
      ],
      "text/plain": [
       "<IPython.core.display.Markdown object>"
      ]
     },
     "metadata": {},
     "output_type": "display_data"
    },
    {
     "data": {
      "text/markdown": [
       "::: {#fig-mchi_anhang layout-ncol=2}\n",
       "\n",
       "![](T6_m_chi/qs_125.svg)\n",
       "\n",
       "![](T6_m_chi/m_chi_125.svg)\n",
       "\n",
       "Momenten-Krümmungs-Beziehung des Querschnitts 125\n",
       ":::"
      ],
      "text/plain": [
       "<IPython.core.display.Markdown object>"
      ]
     },
     "metadata": {},
     "output_type": "display_data"
    },
    {
     "data": {
      "text/markdown": [
       "::: {#fig-mchi_anhang layout-ncol=2}\n",
       "\n",
       "![](T6_m_chi/qs_126.svg)\n",
       "\n",
       "![](T6_m_chi/m_chi_126.svg)\n",
       "\n",
       "Momenten-Krümmungs-Beziehung des Querschnitts 126\n",
       ":::"
      ],
      "text/plain": [
       "<IPython.core.display.Markdown object>"
      ]
     },
     "metadata": {},
     "output_type": "display_data"
    },
    {
     "data": {
      "text/markdown": [
       "::: {#fig-mchi_anhang layout-ncol=2}\n",
       "\n",
       "![](T6_m_chi/qs_127.svg)\n",
       "\n",
       "![](T6_m_chi/m_chi_127.svg)\n",
       "\n",
       "Momenten-Krümmungs-Beziehung des Querschnitts 127\n",
       ":::"
      ],
      "text/plain": [
       "<IPython.core.display.Markdown object>"
      ]
     },
     "metadata": {},
     "output_type": "display_data"
    },
    {
     "data": {
      "text/markdown": [
       "::: {#fig-mchi_anhang layout-ncol=2}\n",
       "\n",
       "![](T6_m_chi/qs_128.svg)\n",
       "\n",
       "![](T6_m_chi/m_chi_128.svg)\n",
       "\n",
       "Momenten-Krümmungs-Beziehung des Querschnitts 128\n",
       ":::"
      ],
      "text/plain": [
       "<IPython.core.display.Markdown object>"
      ]
     },
     "metadata": {},
     "output_type": "display_data"
    },
    {
     "data": {
      "text/markdown": [
       "::: {#fig-mchi_anhang layout-ncol=2}\n",
       "\n",
       "![](T6_m_chi/qs_129.svg)\n",
       "\n",
       "![](T6_m_chi/m_chi_129.svg)\n",
       "\n",
       "Momenten-Krümmungs-Beziehung des Querschnitts 129\n",
       ":::"
      ],
      "text/plain": [
       "<IPython.core.display.Markdown object>"
      ]
     },
     "metadata": {},
     "output_type": "display_data"
    },
    {
     "data": {
      "text/markdown": [
       "::: {#fig-mchi_anhang layout-ncol=2}\n",
       "\n",
       "![](T6_m_chi/qs_130.svg)\n",
       "\n",
       "![](T6_m_chi/m_chi_130.svg)\n",
       "\n",
       "Momenten-Krümmungs-Beziehung des Querschnitts 130\n",
       ":::"
      ],
      "text/plain": [
       "<IPython.core.display.Markdown object>"
      ]
     },
     "metadata": {},
     "output_type": "display_data"
    },
    {
     "data": {
      "text/markdown": [
       "::: {#fig-mchi_anhang layout-ncol=2}\n",
       "\n",
       "![](T6_m_chi/qs_131.svg)\n",
       "\n",
       "![](T6_m_chi/m_chi_131.svg)\n",
       "\n",
       "Momenten-Krümmungs-Beziehung des Querschnitts 131\n",
       ":::"
      ],
      "text/plain": [
       "<IPython.core.display.Markdown object>"
      ]
     },
     "metadata": {},
     "output_type": "display_data"
    },
    {
     "data": {
      "text/markdown": [
       "::: {#fig-mchi_anhang layout-ncol=2}\n",
       "\n",
       "![](T6_m_chi/qs_132.svg)\n",
       "\n",
       "![](T6_m_chi/m_chi_132.svg)\n",
       "\n",
       "Momenten-Krümmungs-Beziehung des Querschnitts 132\n",
       ":::"
      ],
      "text/plain": [
       "<IPython.core.display.Markdown object>"
      ]
     },
     "metadata": {},
     "output_type": "display_data"
    },
    {
     "data": {
      "text/markdown": [
       "::: {#fig-mchi_anhang layout-ncol=2}\n",
       "\n",
       "![](T6_m_chi/qs_133.svg)\n",
       "\n",
       "![](T6_m_chi/m_chi_133.svg)\n",
       "\n",
       "Momenten-Krümmungs-Beziehung des Querschnitts 133\n",
       ":::"
      ],
      "text/plain": [
       "<IPython.core.display.Markdown object>"
      ]
     },
     "metadata": {},
     "output_type": "display_data"
    },
    {
     "data": {
      "text/markdown": [
       "::: {#fig-mchi_anhang layout-ncol=2}\n",
       "\n",
       "![](T6_m_chi/qs_134.svg)\n",
       "\n",
       "![](T6_m_chi/m_chi_134.svg)\n",
       "\n",
       "Momenten-Krümmungs-Beziehung des Querschnitts 134\n",
       ":::"
      ],
      "text/plain": [
       "<IPython.core.display.Markdown object>"
      ]
     },
     "metadata": {},
     "output_type": "display_data"
    },
    {
     "data": {
      "text/markdown": [
       "::: {#fig-mchi_anhang layout-ncol=2}\n",
       "\n",
       "![](T6_m_chi/qs_135.svg)\n",
       "\n",
       "![](T6_m_chi/m_chi_135.svg)\n",
       "\n",
       "Momenten-Krümmungs-Beziehung des Querschnitts 135\n",
       ":::"
      ],
      "text/plain": [
       "<IPython.core.display.Markdown object>"
      ]
     },
     "metadata": {},
     "output_type": "display_data"
    }
   ],
   "source": [
    "for i in range(0,136):\n",
    "    display(Markdown(\n",
    "        f\"\"\"::: {{#fig-mchi_anhang layout-ncol=2}}\\n\\n![](T6_m_chi/qs_{i}.svg)\\n\\n![](T6_m_chi/m_chi_{i}.svg)\\n\\nMomenten-Krümmungs-Beziehung des Querschnitts {i}\\n:::\"\"\"\n",
    "    )\n",
    "    )"
   ]
  },
  {
   "cell_type": "code",
   "execution_count": null,
   "metadata": {},
   "outputs": [],
   "source": []
  }
 ],
 "metadata": {
  "kernelspec": {
   "display_name": "engineering",
   "language": "python",
   "name": "python3"
  },
  "language_info": {
   "codemirror_mode": {
    "name": "ipython",
    "version": 3
   },
   "file_extension": ".py",
   "mimetype": "text/x-python",
   "name": "python",
   "nbconvert_exporter": "python",
   "pygments_lexer": "ipython3",
   "version": "3.1.-1"
  }
 },
 "nbformat": 4,
 "nbformat_minor": 2
}
